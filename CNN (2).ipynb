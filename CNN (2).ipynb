{
  "nbformat": 4,
  "nbformat_minor": 0,
  "metadata": {
    "colab": {
      "name": "Untitled1.ipynb",
      "provenance": [],
      "collapsed_sections": []
    },
    "kernelspec": {
      "name": "python3",
      "display_name": "Python 3"
    }
  },
  "cells": [
    {
      "cell_type": "code",
      "metadata": {
        "id": "586uIbXO-uFG",
        "colab_type": "code",
        "outputId": "f87f208b-cb81-44ed-d912-bbe48bb34f61",
        "colab": {
          "base_uri": "https://localhost:8080/",
          "height": 34
        }
      },
      "source": [
        "!pip install imutils"
      ],
      "execution_count": 0,
      "outputs": [
        {
          "output_type": "stream",
          "text": [
            "Requirement already satisfied: imutils in /usr/local/lib/python3.6/dist-packages (0.5.3)\n"
          ],
          "name": "stdout"
        }
      ]
    },
    {
      "cell_type": "code",
      "metadata": {
        "id": "EUHURZdB_AL6",
        "colab_type": "code",
        "outputId": "7e3f9e9f-96bc-456f-a3b2-d8a3426ee346",
        "colab": {
          "base_uri": "https://localhost:8080/",
          "height": 34
        }
      },
      "source": [
        "import numpy as np\n",
        "import pandas as pd\n",
        "import matplotlib.pyplot as plt\n",
        "from imutils import paths\n",
        "\n",
        "from keras.models import Sequential\n",
        "from keras.layers import Conv2D\n",
        "from keras.layers import MaxPooling2D\n",
        "from keras.layers import Flatten\n",
        "from keras.layers import Dense\n",
        "from keras.layers import Dropout\n",
        "from keras.applications import VGG19\n",
        "from keras.models import Model \n",
        "from keras.callbacks import EarlyStopping\n",
        "from keras.optimizers import SGD\n",
        "\n",
        "from sklearn.metrics import classification_report\n",
        "from sklearn.metrics import accuracy_score"
      ],
      "execution_count": 0,
      "outputs": [
        {
          "output_type": "stream",
          "text": [
            "Using TensorFlow backend.\n"
          ],
          "name": "stderr"
        }
      ]
    },
    {
      "cell_type": "code",
      "metadata": {
        "id": "iaL6bb3R_AyO",
        "colab_type": "code",
        "colab": {}
      },
      "source": [
        "from PIL import ImageFile\n",
        "ImageFile.LOAD_TRUNCATED_IMAGES = True"
      ],
      "execution_count": 0,
      "outputs": []
    },
    {
      "cell_type": "code",
      "metadata": {
        "id": "sbC6YKMF_A7r",
        "colab_type": "code",
        "colab": {}
      },
      "source": [
        "train_data_dir = \"/content/drive/My Drive/train\"\n",
        "test_data_dir = \"/content/drive/My Drive/test\"\n",
        "TRAIN = len(list(paths.list_images(train_data_dir)))\n",
        "TEST = len(list(paths.list_images(test_data_dir)))\n",
        "BS = 10\n",
        "EPOCHS = 10\n",
        "img_width, img_height = 300, 300"
      ],
      "execution_count": 0,
      "outputs": []
    },
    {
      "cell_type": "code",
      "metadata": {
        "id": "LDRaMq7-_N8H",
        "colab_type": "code",
        "outputId": "6e7024db-857b-415a-f55c-6f74317824be",
        "colab": {
          "base_uri": "https://localhost:8080/",
          "height": 1000
        }
      },
      "source": [
        "base_model = VGG19(weights = \"imagenet\", include_top=False, \n",
        "                   input_shape = (img_width, img_height, 3))\n",
        "x = base_model.output\n",
        "x = Flatten()(x)\n",
        "x = Dense(1024, activation = \"relu\")(x)\n",
        "x = Dropout(0.4)(x)\n",
        "x = Dense(256, activation = \"relu\")(x)\n",
        "x = Dropout(0.1)(x)\n",
        "preds = Dense(2, activation = \"softmax\")(x)\n",
        "\n",
        "model = Model(input = base_model.input, output = preds)\n",
        "\n",
        "for i,layer in enumerate(model.layers):\n",
        "    print(i,layer.name)\n",
        "\n",
        "for layer in model.layers[:14]:\n",
        "    layer.trainable=False\n",
        "for layer in model.layers[14:]:\n",
        "    layer.trainable=True\n",
        "    \n",
        "model.summary()"
      ],
      "execution_count": 0,
      "outputs": [
        {
          "output_type": "stream",
          "text": [
            "0 input_1\n",
            "1 block1_conv1\n",
            "2 block1_conv2\n",
            "3 block1_pool\n",
            "4 block2_conv1\n",
            "5 block2_conv2\n",
            "6 block2_pool\n",
            "7 block3_conv1\n",
            "8 block3_conv2\n",
            "9 block3_conv3\n",
            "10 block3_conv4\n",
            "11 block3_pool\n",
            "12 block4_conv1\n",
            "13 block4_conv2\n",
            "14 block4_conv3\n",
            "15 block4_conv4\n",
            "16 block4_pool\n",
            "17 block5_conv1\n",
            "18 block5_conv2\n",
            "19 block5_conv3\n",
            "20 block5_conv4\n",
            "21 block5_pool\n",
            "22 flatten_1\n",
            "23 dense_1\n",
            "24 dropout_1\n",
            "25 dense_2\n",
            "26 dropout_2\n",
            "27 dense_3\n",
            "Model: \"model_1\"\n",
            "_________________________________________________________________\n",
            "Layer (type)                 Output Shape              Param #   \n",
            "=================================================================\n",
            "input_1 (InputLayer)         (None, 300, 300, 3)       0         \n",
            "_________________________________________________________________\n",
            "block1_conv1 (Conv2D)        (None, 300, 300, 64)      1792      \n",
            "_________________________________________________________________\n",
            "block1_conv2 (Conv2D)        (None, 300, 300, 64)      36928     \n",
            "_________________________________________________________________\n",
            "block1_pool (MaxPooling2D)   (None, 150, 150, 64)      0         \n",
            "_________________________________________________________________\n",
            "block2_conv1 (Conv2D)        (None, 150, 150, 128)     73856     \n",
            "_________________________________________________________________\n",
            "block2_conv2 (Conv2D)        (None, 150, 150, 128)     147584    \n",
            "_________________________________________________________________\n",
            "block2_pool (MaxPooling2D)   (None, 75, 75, 128)       0         \n",
            "_________________________________________________________________\n",
            "block3_conv1 (Conv2D)        (None, 75, 75, 256)       295168    \n",
            "_________________________________________________________________\n",
            "block3_conv2 (Conv2D)        (None, 75, 75, 256)       590080    \n",
            "_________________________________________________________________\n",
            "block3_conv3 (Conv2D)        (None, 75, 75, 256)       590080    \n",
            "_________________________________________________________________\n",
            "block3_conv4 (Conv2D)        (None, 75, 75, 256)       590080    \n",
            "_________________________________________________________________\n",
            "block3_pool (MaxPooling2D)   (None, 37, 37, 256)       0         \n",
            "_________________________________________________________________\n",
            "block4_conv1 (Conv2D)        (None, 37, 37, 512)       1180160   \n",
            "_________________________________________________________________\n",
            "block4_conv2 (Conv2D)        (None, 37, 37, 512)       2359808   \n",
            "_________________________________________________________________\n",
            "block4_conv3 (Conv2D)        (None, 37, 37, 512)       2359808   \n",
            "_________________________________________________________________\n",
            "block4_conv4 (Conv2D)        (None, 37, 37, 512)       2359808   \n",
            "_________________________________________________________________\n",
            "block4_pool (MaxPooling2D)   (None, 18, 18, 512)       0         \n",
            "_________________________________________________________________\n",
            "block5_conv1 (Conv2D)        (None, 18, 18, 512)       2359808   \n",
            "_________________________________________________________________\n",
            "block5_conv2 (Conv2D)        (None, 18, 18, 512)       2359808   \n",
            "_________________________________________________________________\n",
            "block5_conv3 (Conv2D)        (None, 18, 18, 512)       2359808   \n",
            "_________________________________________________________________\n",
            "block5_conv4 (Conv2D)        (None, 18, 18, 512)       2359808   \n",
            "_________________________________________________________________\n",
            "block5_pool (MaxPooling2D)   (None, 9, 9, 512)         0         \n",
            "_________________________________________________________________\n",
            "flatten_1 (Flatten)          (None, 41472)             0         \n",
            "_________________________________________________________________\n",
            "dense_1 (Dense)              (None, 1024)              42468352  \n",
            "_________________________________________________________________\n",
            "dropout_1 (Dropout)          (None, 1024)              0         \n",
            "_________________________________________________________________\n",
            "dense_2 (Dense)              (None, 256)               262400    \n",
            "_________________________________________________________________\n",
            "dropout_2 (Dropout)          (None, 256)               0         \n",
            "_________________________________________________________________\n",
            "dense_3 (Dense)              (None, 2)                 514       \n",
            "=================================================================\n",
            "Total params: 62,755,650\n",
            "Trainable params: 56,890,114\n",
            "Non-trainable params: 5,865,536\n",
            "_________________________________________________________________\n"
          ],
          "name": "stdout"
        },
        {
          "output_type": "stream",
          "text": [
            "/usr/local/lib/python3.6/dist-packages/ipykernel_launcher.py:11: UserWarning: Update your `Model` call to the Keras 2 API: `Model(inputs=Tensor(\"in..., outputs=Tensor(\"de...)`\n",
            "  # This is added back by InteractiveShellApp.init_path()\n"
          ],
          "name": "stderr"
        }
      ]
    },
    {
      "cell_type": "code",
      "metadata": {
        "id": "-HF-7GNb_R79",
        "colab_type": "code",
        "colab": {}
      },
      "source": [
        "early = EarlyStopping(monitor = 'val_acc', min_delta = 0, \n",
        "                      patience = 10, verbose= 1 , mode = 'auto')\n",
        "\n",
        "model.compile(loss = \"categorical_crossentropy\", \n",
        "              optimizer = SGD(lr=0.001, momentum=0.9), \n",
        "              metrics=[\"accuracy\"])"
      ],
      "execution_count": 0,
      "outputs": []
    },
    {
      "cell_type": "code",
      "metadata": {
        "id": "gzfGyQNe_XKQ",
        "colab_type": "code",
        "colab": {}
      },
      "source": [
        "from keras.preprocessing.image import ImageDataGenerator\n",
        "\n",
        "trainAug = ImageDataGenerator(rescale = 1./255,\n",
        "                               shear_range = 0.2,\n",
        "                               zoom_range = 0.2,\n",
        "                               horizontal_flip = True,\n",
        "                               fill_mode = \"nearest\")"
      ],
      "execution_count": 0,
      "outputs": []
    },
    {
      "cell_type": "code",
      "metadata": {
        "id": "BWM2EZnE_XP-",
        "colab_type": "code",
        "colab": {}
      },
      "source": [
        "testAug = ImageDataGenerator(rescale = 1./255,\n",
        "                             fill_mode = \"nearest\")"
      ],
      "execution_count": 0,
      "outputs": []
    },
    {
      "cell_type": "code",
      "metadata": {
        "id": "SgjYn2tX_eUn",
        "colab_type": "code",
        "outputId": "419379b8-570a-4ac2-f327-df8bb515a908",
        "colab": {
          "base_uri": "https://localhost:8080/",
          "height": 34
        }
      },
      "source": [
        "trainGen = trainAug.flow_from_directory('/content/drive/My Drive/train',\n",
        "                                         target_size = (img_width, img_height),\n",
        "                                         batch_size = BS,\n",
        "                                         shuffle = True,\n",
        "                                         class_mode = 'categorical')"
      ],
      "execution_count": 0,
      "outputs": [
        {
          "output_type": "stream",
          "text": [
            "Found 1400 images belonging to 2 classes.\n"
          ],
          "name": "stdout"
        }
      ]
    },
    {
      "cell_type": "code",
      "metadata": {
        "id": "z3lNaZCi_1CH",
        "colab_type": "code",
        "outputId": "71018b6f-b060-45ba-de2f-0d0216fd776c",
        "colab": {
          "base_uri": "https://localhost:8080/",
          "height": 34
        }
      },
      "source": [
        "testGen = testAug.flow_from_directory('/content/drive/My Drive/test',\n",
        "                                    target_size = (img_width, img_height),\n",
        "                                    batch_size = BS,\n",
        "                                    class_mode = 'categorical')"
      ],
      "execution_count": 0,
      "outputs": [
        {
          "output_type": "stream",
          "text": [
            "Found 349 images belonging to 2 classes.\n"
          ],
          "name": "stdout"
        }
      ]
    },
    {
      "cell_type": "code",
      "metadata": {
        "id": "F2vowwks_8DB",
        "colab_type": "code",
        "outputId": "ee147249-5adf-4805-cbe5-e678a6d9fd46",
        "colab": {
          "base_uri": "https://localhost:8080/",
          "height": 386
        }
      },
      "source": [
        "classes = trainGen.class_indices    \n",
        "print(classes)\n",
        "H = model.fit_generator(trainGen, epochs = EPOCHS,\n",
        "                        steps_per_epoch = TRAIN // BS)\n",
        "print(\"CNN Trained\")"
      ],
      "execution_count": 0,
      "outputs": [
        {
          "output_type": "stream",
          "text": [
            "{'neg': 0, 'pos': 1}\n",
            "Epoch 1/10\n",
            "140/140 [==============================] - 2554s 18s/step - loss: 0.5802 - accuracy: 0.7343\n",
            "Epoch 2/10\n",
            "140/140 [==============================] - 2563s 18s/step - loss: 0.3520 - accuracy: 0.8443\n",
            "Epoch 3/10\n",
            "140/140 [==============================] - 2682s 19s/step - loss: 0.2336 - accuracy: 0.9121\n",
            "Epoch 4/10\n",
            "140/140 [==============================] - 2704s 19s/step - loss: 0.2040 - accuracy: 0.9186\n",
            "Epoch 5/10\n",
            "140/140 [==============================] - 2670s 19s/step - loss: 0.2004 - accuracy: 0.9214\n",
            "Epoch 6/10\n",
            "140/140 [==============================] - 2620s 19s/step - loss: 0.1237 - accuracy: 0.9593\n",
            "Epoch 7/10\n",
            "140/140 [==============================] - 2610s 19s/step - loss: 0.1175 - accuracy: 0.9557\n",
            "Epoch 8/10\n",
            "140/140 [==============================] - 2662s 19s/step - loss: 0.0762 - accuracy: 0.9736\n",
            "Epoch 9/10\n",
            "140/140 [==============================] - 2554s 18s/step - loss: 0.0842 - accuracy: 0.9757\n",
            "Epoch 10/10\n",
            "140/140 [==============================] - 2534s 18s/step - loss: 0.0441 - accuracy: 0.9893\n",
            "CNN Trained\n"
          ],
          "name": "stdout"
        }
      ]
    },
    {
      "cell_type": "code",
      "metadata": {
        "id": "2g6xIWfS_8Me",
        "colab_type": "code",
        "outputId": "8e2f5f0e-6310-4e75-d797-bc3d8eda5da5",
        "colab": {
          "base_uri": "https://localhost:8080/",
          "height": 34
        }
      },
      "source": [
        "model.save('/content/drive/My Drive/model.h5')\n",
        "print(\"CNN Saved\")"
      ],
      "execution_count": 0,
      "outputs": [
        {
          "output_type": "stream",
          "text": [
            "CNN Saved\n"
          ],
          "name": "stdout"
        }
      ]
    }
  ]
}
{
  "nbformat": 4,
  "nbformat_minor": 0,
  "metadata": {
    "colab": {
      "name": "Untitled2.ipynb",
      "provenance": []
    },
    "kernelspec": {
      "name": "python3",
      "display_name": "Python 3"
    }
  },
  "cells": [
    {
      "cell_type": "code",
      "metadata": {
        "id": "tSEOlk7e55-R",
        "colab_type": "code",
        "colab": {}
      },
      "source": [
        "import cv2\n",
        "import argparse\n",
        "import os\n",
        "import numpy as np\n",
        "\n",
        "from keras.models import load_model\n",
        "from keras.optimizers import SGD"
      ],
      "execution_count": 0,
      "outputs": []
    },
    {
      "cell_type": "code",
      "metadata": {
        "id": "gi4RDWTl6FLQ",
        "colab_type": "code",
        "colab": {}
      },
      "source": [
        "img_width, img_height = 300, 300"
      ],
      "execution_count": 0,
      "outputs": []
    },
    {
      "cell_type": "code",
      "metadata": {
        "id": "pnqezEn86jRM",
        "colab_type": "code",
        "colab": {}
      },
      "source": [
        "model = load_model('/content/drive/My Drive/model.h5')\n",
        "model.compile(loss = \"categorical_crossentropy\", \n",
        "              optimizer = SGD(lr=0.001, momentum=0.9), \n",
        "              metrics=[\"accuracy\"])"
      ],
      "execution_count": 0,
      "outputs": []
    },
    {
      "cell_type": "code",
      "metadata": {
        "id": "A4M3KcKW9LoO",
        "colab_type": "code",
        "colab": {}
      },
      "source": [
        "fileName='/content/drive/My Drive/ab.jpg'"
      ],
      "execution_count": 0,
      "outputs": []
    },
    {
      "cell_type": "code",
      "metadata": {
        "id": "RRslmPFI9W2q",
        "colab_type": "code",
        "outputId": "841f9593-f20d-45c2-ce7d-e35d6d022878",
        "colab": {
          "base_uri": "https://localhost:8080/",
          "height": 34
        }
      },
      "source": [
        "if(os.path.isfile(fileName)):\n",
        "    img = cv2.imread(fileName)\n",
        "    img = cv2.resize(img, (img_width, img_height))\n",
        "    img = img.astype(\"float\") /  255.0\n",
        "    img = np.reshape(img, [1, img_width, img_height, 3])\n",
        "\n",
        "    result = model.predict(img)\n",
        "    pred = np.argmax(result, axis=1)\n",
        "\n",
        "    if(pred[0] == 0):\n",
        "        print(\"No hardhat is being worn.\")\n",
        "    else:\n",
        "        print(\"A hardhat is being worn.\")\n",
        "    \n",
        "\n",
        "# return false statement if image specified does not exist\n",
        "else:\n",
        "    print(\"The directory \" + fileName + \" could not be located.\")"
      ],
      "execution_count": 0,
      "outputs": [
        {
          "output_type": "stream",
          "text": [
            "A hardhat is being worn.\n"
          ],
          "name": "stdout"
        }
      ]
    }
  ]
}
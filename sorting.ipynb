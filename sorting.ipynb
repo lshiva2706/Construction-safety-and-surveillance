{
  "cells": [
    {
      "metadata": {
        "trusted": true
      },
      "cell_type": "code",
      "source": "import os\nimport shutil\n\nneg_files = os.listdir(\"neg\")\npos_files = os.listdir(\"pos\")\n\nneg = len(neg_files)\npos = len(pos_files)\n\nneg_train = int(neg * 0.8)\nneg_test = neg - neg_train\n\npos_train = int(pos * 0.8)\npos_test = pos - pos_train\n\nos.makedirs('train/neg')\nos.makedirs('train/pos')\nos.makedirs('test/neg')\nos.makedirs('test/pos')\n\nfor i in range(0, neg_train):\n    file = \"neg/\" + neg_files[i]\n    shutil.move(file, \"train/neg\")\n    \nfor i in range(neg_train, neg):\n    file = \"neg/\" + neg_files[i]\n    shutil.move(file, \"test/neg\")\n    \nfor i in range(0, pos_train):\n    file = \"pos/\" + pos_files[i]\n    shutil.move(file, \"train/pos\")\n    \nfor i in range(pos_train, pos):\n    file = \"pos/\" + pos_files[i]\n    shutil.move(file, \"test/pos\")",
      "execution_count": 1,
      "outputs": []
    },
    {
      "metadata": {
        "trusted": true
      },
      "cell_type": "code",
      "source": "",
      "execution_count": null,
      "outputs": []
    }
  ],
  "metadata": {
    "kernelspec": {
      "name": "python36",
      "display_name": "Python 3.6",
      "language": "python"
    },
    "language_info": {
      "mimetype": "text/x-python",
      "nbconvert_exporter": "python",
      "name": "python",
      "pygments_lexer": "ipython3",
      "version": "3.6.6",
      "file_extension": ".py",
      "codemirror_mode": {
        "version": 3,
        "name": "ipython"
      }
    }
  },
  "nbformat": 4,
  "nbformat_minor": 2
}